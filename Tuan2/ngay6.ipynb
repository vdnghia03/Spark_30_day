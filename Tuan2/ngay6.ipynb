{
 "cells": [
  {
   "cell_type": "markdown",
   "metadata": {},
   "source": [
    "# Ngày 6: SPARK SQL - DATAFRAME"
   ]
  },
  {
   "cell_type": "markdown",
   "metadata": {},
   "source": [
    "### 1. Giới thiệu về Spark SQL"
   ]
  },
  {
   "cell_type": "markdown",
   "metadata": {},
   "source": [
    "1.1. Định Nghĩa\n",
    "\n",
    "- Spark SQL là module xử lý dữ liệu có cấu trúc trong Apache Spark\n",
    "- Cung cấp giao diện để làm việc với dữ liệu có cấu trúc và bán cấu trúc\n",
    "\n",
    "1.2 Ưu Điểm\n",
    "\n",
    "- Tích hợp truy vấn SQL với xử lý dữ liệu phân tán\n",
    "- Hiệu suất cao nhờ Catalyst Optimizer\n",
    "- Hỗ trợ nhiều nguồn dữ liệu"
   ]
  },
  {
   "cell_type": "markdown",
   "metadata": {},
   "source": [
    "### 2. Kiến Trúc Spark SQL"
   ]
  },
  {
   "cell_type": "markdown",
   "metadata": {},
   "source": [
    "2.1 Thành Phần Chính\n",
    "\n",
    "- DataFrame API\n",
    "- Dataset API\n",
    "- SQL Interface\n",
    "\n",
    "2.2 Catalyst Optimizer\\\n",
    "Quá trình tối ưu hóa truy vấn\n",
    "Các giai đoạn:\n",
    "- Phân tích cú pháp\n",
    "- Kiểm tra logic\n",
    "- Tối ưu hóa kế hoạch\n",
    "- Sinh mã thực thi\n",
    "\n",
    "2.3 Tungsten Execution Engine\n",
    "\n",
    "- Tối ưu hóa bộ nhớ và xử lý\n",
    "- Quản lý bộ nhớ hiệu quả\n",
    "- Giảm overhead GC"
   ]
  },
  {
   "cell_type": "markdown",
   "metadata": {},
   "source": [
    "### 3. DataFrame và Dataset"
   ]
  },
  {
   "cell_type": "markdown",
   "metadata": {},
   "source": [
    "3.1 So Sánh\n",
    "- RDD: Không có cấu trúc, hiệu suất thấp\n",
    "- DataFrame: Có cấu trúc, tối ưu hơn\n",
    "- Dataset: Kết hợp ưu điểm RDD và DataFrame\n",
    "  \n",
    "3.2 Các Phép Biến Đổi\n",
    "- Transformation: select, filter, groupBy\n",
    "- Action: show, count, collect"
   ]
  },
  {
   "cell_type": "markdown",
   "metadata": {},
   "source": [
    "### 4. Tạo DataFrame"
   ]
  },
  {
   "cell_type": "markdown",
   "metadata": {},
   "source": [
    "4.1 Từ RDD\n",
    "```python\n",
    "# Chuyển RDD sang DataFrame\n",
    "rdd = sc.parallelize([(1, \"Alice\"), (2, \"Bob\")])\n",
    "df = spark.createDataFrame(rdd, [\"id\", \"name\"])\n",
    "```"
   ]
  },
  {
   "cell_type": "markdown",
   "metadata": {},
   "source": [
    "4.2 Từ File\n",
    "\n",
    "```python\n",
    "# CSV\n",
    "df_csv = spark.read \\\n",
    "    .option(\"header\", \"true\") \\\n",
    "    .option(\"inferSchema\", \"true\") \\\n",
    "    .csv(\"data.csv\")\n",
    "\n",
    "# JSON\n",
    "df_json = spark.read.json(\"data.json\")\n",
    "```"
   ]
  },
  {
   "cell_type": "markdown",
   "metadata": {},
   "source": [
    "4.3 Từ JDBC\n",
    "\n",
    "```python\n",
    "df_jdbc = spark.read \\\n",
    "    .format(\"jdbc\") \\\n",
    "    .option(\"url\", \"jdbc:mysql://localhost/db\") \\\n",
    "    .option(\"dbtable\", \"users\") \\\n",
    "    .option(\"user\", \"username\") \\\n",
    "    .option(\"password\", \"password\") \\\n",
    "    .load()\n",
    "```"
   ]
  },
  {
   "cell_type": "markdown",
   "metadata": {},
   "source": [
    "### 5. Truy vấn SQL"
   ]
  },
  {
   "cell_type": "markdown",
   "metadata": {},
   "source": [
    "5.1 Đăng kí view\n",
    "\n",
    "**Tạo view tạm thời**\n",
    "df.createOrReplaceTempView(\"social_posts\")\n",
    "\n",
    "**Truy vấn SQL**\n",
    "```python\n",
    "result = spark.sql(\"\"\"\n",
    "    SELECT \n",
    "        date, \n",
    "        COUNT(*) as post_count,\n",
    "        AVG(likes) as avg_likes\n",
    "    FROM social_posts\n",
    "    GROUP BY date\n",
    "\"\"\")\n",
    "```\n",
    "\n",
    "5.2 Các hàm thông dụng\n",
    "\n",
    "- Aggregate: sum(), avg(), count()\n",
    "- Window Functions\n",
    "- Joins\n",
    "- Subqueries"
   ]
  },
  {
   "cell_type": "markdown",
   "metadata": {},
   "source": [
    "## Bài Tập Thực Hành"
   ]
  },
  {
   "cell_type": "markdown",
   "metadata": {},
   "source": [
    "Bài 1: Tạo DataFrame từ một file CSV chứa dữ liệu mạng xã hội và thực hiện các truy vấn SQL đơn giản (ví dụ: đếm số bài đăng theo ngày, tìm các hashtag phổ biến)."
   ]
  },
  {
   "cell_type": "markdown",
   "metadata": {},
   "source": []
  }
 ],
 "metadata": {
  "language_info": {
   "name": "python"
  }
 },
 "nbformat": 4,
 "nbformat_minor": 2
}
