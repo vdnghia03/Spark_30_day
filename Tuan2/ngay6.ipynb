{
 "cells": [
  {
   "cell_type": "markdown",
   "metadata": {},
   "source": [
    "# Ngày 6: SPARK SQL - DATAFRAME"
   ]
  },
  {
   "cell_type": "markdown",
   "metadata": {},
   "source": [
    "### 1. Giới thiệu về Spark SQL"
   ]
  },
  {
   "cell_type": "markdown",
   "metadata": {},
   "source": [
    "1.1. Định Nghĩa\n",
    "\n",
    "- Spark SQL là module xử lý dữ liệu có cấu trúc trong Apache Spark\n",
    "- Cung cấp giao diện để làm việc với dữ liệu có cấu trúc và bán cấu trúc\n",
    "\n",
    "1.2 Ưu Điểm\n",
    "\n",
    "- Tích hợp truy vấn SQL với xử lý dữ liệu phân tán\n",
    "- Hiệu suất cao nhờ Catalyst Optimizer\n",
    "- Hỗ trợ nhiều nguồn dữ liệu"
   ]
  },
  {
   "cell_type": "markdown",
   "metadata": {},
   "source": [
    "### 2. Kiến Trúc Spark SQL"
   ]
  },
  {
   "cell_type": "markdown",
   "metadata": {},
   "source": [
    "2.1 Thành Phần Chính\n",
    "\n",
    "- DataFrame API\n",
    "- Dataset API\n",
    "- SQL Interface\n",
    "\n",
    "2.2 Catalyst Optimizer\\\n",
    "Quá trình tối ưu hóa truy vấn\n",
    "Các giai đoạn:\n",
    "- Phân tích cú pháp\n",
    "- Kiểm tra logic\n",
    "- Tối ưu hóa kế hoạch\n",
    "- Sinh mã thực thi\n",
    "\n",
    "2.3 Tungsten Execution Engine\n",
    "\n",
    "- Tối ưu hóa bộ nhớ và xử lý\n",
    "- Quản lý bộ nhớ hiệu quả\n",
    "- Giảm overhead GC"
   ]
  },
  {
   "cell_type": "markdown",
   "metadata": {},
   "source": [
    "### 3. DataFrame và Dataset"
   ]
  },
  {
   "cell_type": "markdown",
   "metadata": {},
   "source": [
    "3.1 So Sánh\n",
    "- RDD: Không có cấu trúc, hiệu suất thấp\n",
    "- DataFrame: Có cấu trúc, tối ưu hơn\n",
    "- Dataset: Kết hợp ưu điểm RDD và DataFrame\n",
    "  \n",
    "3.2 Các Phép Biến Đổi\n",
    "- Transformation: select, filter, groupBy\n",
    "- Action: show, count, collect"
   ]
  },
  {
   "cell_type": "markdown",
   "metadata": {},
   "source": [
    "### 4. Tạo DataFrame"
   ]
  },
  {
   "cell_type": "markdown",
   "metadata": {},
   "source": [
    "4.1 Từ RDD\n",
    "```python\n",
    "# Chuyển RDD sang DataFrame\n",
    "rdd = sc.parallelize([(1, \"Alice\"), (2, \"Bob\")])\n",
    "df = spark.createDataFrame(rdd, [\"id\", \"name\"])\n",
    "```"
   ]
  },
  {
   "cell_type": "markdown",
   "metadata": {},
   "source": [
    "4.2 Từ File\n",
    "\n",
    "```python\n",
    "# CSV\n",
    "df_csv = spark.read \\\n",
    "    .option(\"header\", \"true\") \\\n",
    "    .option(\"inferSchema\", \"true\") \\\n",
    "    .csv(\"data.csv\")\n",
    "\n",
    "# JSON\n",
    "df_json = spark.read.json(\"data.json\")\n",
    "```"
   ]
  },
  {
   "cell_type": "markdown",
   "metadata": {},
   "source": [
    "4.3 Từ JDBC\n",
    "\n",
    "```python\n",
    "df_jdbc = spark.read \\\n",
    "    .format(\"jdbc\") \\\n",
    "    .option(\"url\", \"jdbc:mysql://localhost/db\") \\\n",
    "    .option(\"dbtable\", \"users\") \\\n",
    "    .option(\"user\", \"username\") \\\n",
    "    .option(\"password\", \"password\") \\\n",
    "    .load()\n",
    "```"
   ]
  },
  {
   "cell_type": "markdown",
   "metadata": {},
   "source": [
    "### 5. Truy vấn SQL"
   ]
  },
  {
   "cell_type": "markdown",
   "metadata": {},
   "source": [
    "5.1 Đăng kí view\n",
    "\n",
    "**Tạo view tạm thời**\n",
    "df.createOrReplaceTempView(\"social_posts\")\n",
    "\n",
    "**Truy vấn SQL**\n",
    "```python\n",
    "result = spark.sql(\"\"\"\n",
    "    SELECT \n",
    "        date, \n",
    "        COUNT(*) as post_count,\n",
    "        AVG(likes) as avg_likes\n",
    "    FROM social_posts\n",
    "    GROUP BY date\n",
    "\"\"\")\n",
    "```\n",
    "\n",
    "5.2 Các hàm thông dụng\n",
    "\n",
    "- Aggregate: sum(), avg(), count()\n",
    "- Window Functions\n",
    "- Joins\n",
    "- Subqueries"
   ]
  },
  {
   "cell_type": "markdown",
   "metadata": {},
   "source": [
    "## Bài Tập Thực Hành"
   ]
  },
  {
   "cell_type": "markdown",
   "metadata": {},
   "source": [
    "Bài 1: Tạo DataFrame từ một file CSV chứa dữ liệu mạng xã hội và thực hiện các truy vấn SQL đơn giản (ví dụ: đếm số bài đăng theo ngày, tìm các hashtag phổ biến)."
   ]
  },
  {
   "cell_type": "code",
   "execution_count": 4,
   "metadata": {},
   "outputs": [
    {
     "name": "stdout",
     "output_type": "stream",
     "text": [
      "root\n",
      " |-- user_id: integer (nullable = true)\n",
      " |-- username: string (nullable = true)\n",
      " |-- post_date: date (nullable = true)\n",
      " |-- content: string (nullable = true)\n",
      " |-- likes: integer (nullable = true)\n",
      " |-- shares: integer (nullable = true)\n",
      " |-- hashtags: string (nullable = true)\n",
      "\n"
     ]
    }
   ],
   "source": [
    "# Khởi tạo Spark Session\n",
    "from pyspark.sql import SparkSession\n",
    "from pyspark.sql.functions import *\n",
    "from pyspark.sql.window import Window\n",
    "\n",
    "# Tạo Spark Session\n",
    "spark = SparkSession.builder \\\n",
    "    .appName(\"Social Media Analysis\") \\\n",
    "    .getOrCreate()\n",
    "\n",
    "# Đọc dữ liệu\n",
    "df = spark.read \\\n",
    "    .option(\"header\", \"true\") \\\n",
    "    .option(\"inferSchema\", \"true\") \\\n",
    "    .csv(\"material_2/social_media.csv\")\n",
    "\n",
    "# Hiển thị cấu trúc DataFrame\n",
    "df.printSchema()"
   ]
  },
  {
   "cell_type": "code",
   "execution_count": 6,
   "metadata": {},
   "outputs": [
    {
     "name": "stdout",
     "output_type": "stream",
     "text": [
      "+--------------------+-----+\n",
      "|             hashtag|count|\n",
      "+--------------------+-----+\n",
      "|#startup #technology|    1|\n",
      "|      #happy #travel|    1|\n",
      "|#datascience #coding|    1|\n",
      "|     #bigdata #spark|    1|\n",
      "|       #weekend #fun|    1|\n",
      "+--------------------+-----+\n",
      "\n"
     ]
    }
   ],
   "source": [
    "# Phân tích các hagstags phổ biến\n",
    "df.select(explode(split(\"hashtags\", \",\\s*\")).alias(\"hashtag\")) \\\n",
    "    .groupBy(\"hashtag\") \\\n",
    "    .count() \\\n",
    "    .orderBy(desc(\"count\")) \\\n",
    "    .show()"
   ]
  },
  {
   "cell_type": "code",
   "execution_count": 8,
   "metadata": {},
   "outputs": [
    {
     "name": "stdout",
     "output_type": "stream",
     "text": [
      "+----------+-----------+-----------+------------+\n",
      "|  username|total_posts|total_likes|total_shares|\n",
      "+----------+-----------+-----------+------------+\n",
      "|  john_doe|          2|        450|          55|\n",
      "|  emma_dev|          1|        400|          60|\n",
      "| alex_tech|          1|        300|          45|\n",
      "|jane_smith|          1|        150|          15|\n",
      "+----------+-----------+-----------+------------+\n",
      "\n"
     ]
    }
   ],
   "source": [
    "# Phân tích các người dùng phổ biến\n",
    "# Top người dùng theo engagement\n",
    "user_engagement = df.groupBy(\"username\") \\\n",
    "    .agg(\n",
    "        count(\"*\").alias(\"total_posts\"),\n",
    "        sum(\"likes\").alias(\"total_likes\"),\n",
    "        sum(\"shares\").alias(\"total_shares\")\n",
    "    ) \\\n",
    "    .orderBy(col(\"total_likes\").desc())\n",
    "\n",
    "user_engagement.show(5)"
   ]
  },
  {
   "cell_type": "code",
   "execution_count": 9,
   "metadata": {},
   "outputs": [
    {
     "name": "stdout",
     "output_type": "stream",
     "text": [
      "+----------+-----------+---------+----------+\n",
      "| post_date|total_posts|avg_likes|avg_shares|\n",
      "+----------+-----------+---------+----------+\n",
      "|2024-01-15|          2|    200.0|      22.5|\n",
      "|2024-01-16|          2|    250.0|      35.0|\n",
      "|2024-01-17|          1|    400.0|      60.0|\n",
      "+----------+-----------+---------+----------+\n",
      "\n"
     ]
    }
   ],
   "source": [
    "# Thống kê hoạt động theo ngày\n",
    "daily_activity = df.groupBy(\"post_date\") \\\n",
    "    .agg(\n",
    "        count(\"*\").alias(\"total_posts\"),\n",
    "        avg(\"likes\").alias(\"avg_likes\"),\n",
    "        avg(\"shares\").alias(\"avg_shares\")\n",
    "    ) \\\n",
    "    .orderBy(\"post_date\")\n",
    "\n",
    "daily_activity.show()"
   ]
  },
  {
   "cell_type": "code",
   "execution_count": 10,
   "metadata": {},
   "outputs": [
    {
     "name": "stderr",
     "output_type": "stream",
     "text": [
      "24/11/27 00:05:23 WARN WindowExec: No Partition Defined for Window operation! Moving all data to a single partition, this can cause serious performance degradation.\n",
      "24/11/27 00:05:23 WARN WindowExec: No Partition Defined for Window operation! Moving all data to a single partition, this can cause serious performance degradation.\n",
      "24/11/27 00:05:23 WARN WindowExec: No Partition Defined for Window operation! Moving all data to a single partition, this can cause serious performance degradation.\n",
      "24/11/27 00:05:24 WARN WindowExec: No Partition Defined for Window operation! Moving all data to a single partition, this can cause serious performance degradation.\n",
      "24/11/27 00:05:24 WARN WindowExec: No Partition Defined for Window operation! Moving all data to a single partition, this can cause serious performance degradation.\n",
      "24/11/27 00:05:24 WARN WindowExec: No Partition Defined for Window operation! Moving all data to a single partition, this can cause serious performance degradation.\n"
     ]
    },
    {
     "name": "stdout",
     "output_type": "stream",
     "text": [
      "+--------+----------+-----------+---------------+\n",
      "|username|post_count|total_likes|engagement_rank|\n",
      "+--------+----------+-----------+---------------+\n",
      "|john_doe|         2|        450|              1|\n",
      "+--------+----------+-----------+---------------+\n",
      "\n"
     ]
    }
   ],
   "source": [
    "# Truy vấn sql\n",
    "# Đăng ký view để truy vấn SQL\n",
    "df.createOrReplaceTempView(\"social_posts\")\n",
    "\n",
    "# Truy vấn SQL phức tạp\n",
    "advanced_query = spark.sql(\"\"\"\n",
    "    SELECT \n",
    "        username,\n",
    "        COUNT(*) as post_count,\n",
    "        SUM(likes) as total_likes,\n",
    "        RANK() OVER (ORDER BY SUM(likes) DESC) as engagement_rank\n",
    "    FROM social_posts\n",
    "    GROUP BY username\n",
    "    HAVING post_count > 1\n",
    "\"\"\")\n",
    "\n",
    "advanced_query.show()"
   ]
  },
  {
   "cell_type": "code",
   "execution_count": 11,
   "metadata": {},
   "outputs": [],
   "source": [
    "spark.stop()"
   ]
  },
  {
   "cell_type": "code",
   "execution_count": null,
   "metadata": {},
   "outputs": [],
   "source": []
  }
 ],
 "metadata": {
  "kernelspec": {
   "display_name": ".venv",
   "language": "python",
   "name": "python3"
  },
  "language_info": {
   "codemirror_mode": {
    "name": "ipython",
    "version": 3
   },
   "file_extension": ".py",
   "mimetype": "text/x-python",
   "name": "python",
   "nbconvert_exporter": "python",
   "pygments_lexer": "ipython3",
   "version": "3.10.12"
  }
 },
 "nbformat": 4,
 "nbformat_minor": 2
}
