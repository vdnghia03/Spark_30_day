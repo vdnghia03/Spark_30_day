{
 "cells": [
  {
   "cell_type": "code",
   "execution_count": 1,
   "metadata": {},
   "outputs": [],
   "source": [
    "# Ngày 4: PAIR RDD"
   ]
  },
  {
   "cell_type": "markdown",
   "metadata": {},
   "source": [
    "### 1. Pair RDDs"
   ]
  },
  {
   "cell_type": "markdown",
   "metadata": {},
   "source": [
    "a. Khái niệm:\n",
    "- Khái niệm: Pair RDDs là các RDD chứa các cặp dữ liệu dạng (key, value), giúp dễ dàng thực hiện các phép toán dựa trên khóa.\n",
    "- Ví dụ: Từ một danh sách các giao dịch bán hàng, tạo Pair RDD với mã sản phẩm là \"key\" và số lượng bán là \"value\". ('MaSP', soluong)\n",
    "- Ở các bài tập các buổi trước, việc đếm word count hay tính tổng doanh thu dựa theo Category các bạn đều đã tạo qua Pair RDDS để làm bài.\n",
    "\n",
    "b. Cách tạo Pair RDDS:\n",
    "- <p style = \"color: green\">Tạo từ Map và FlatMap: </p>\n",
    "```python\n",
    "        rdd = sc.textFile(\"path\")\n",
    "        # Dem word count trong van ban\n",
    "        word_count = rdd.flatMap(lambda x: x.split()) \\\n",
    "                        .map(lambda word : (word,1)) \\\n",
    "                        .reduceByKey(lambda x, y: x+y)\n",
    "```\n",
    "\n",
    "- <p style = \"color: green\">Tạo từ một một danh sách các cặp (key, value)</p>\n",
    "```python\n",
    "        sales_data = [(\"ProductA\", 30), (\"ProductB\", 20), (\"ProductA\", 15)]\n",
    "        pair_rdd = sc.parallelize(sales_data)\n",
    "        # Output: [('ProductA', 30), ('ProductB', 20), ('ProductA', 15)]\n",
    "```\n",
    "\n",
    "- <p style = \"color: green\">Sử dụng hàm KeyBy </p>\n",
    "```python\n",
    "        products_rdd = sc.parallelize([(\"ProductA\", 100, \"CategoryX\"),\n",
    "                                         (\"ProductB\", 200, \"CategoryY\")])\n",
    "                                         \n",
    "        pair_rdd = products_rdd.keyBy(lambda x: x[0])  # Khóa là tên sản phẩm\n",
    "        # Output: [('ProductA', ('ProductA', 100, 'CategoryX')), \n",
    "        #               ('ProductB', ('ProductB', 200, 'CategoryY'))]\n",
    "\n",
    "```"
   ]
  },
  {
   "cell_type": "markdown",
   "metadata": {},
   "source": [
    "### 2. Các phép toán trên Pair RDDs\n",
    "\n"
   ]
  },
  {
   "cell_type": "markdown",
   "metadata": {},
   "source": [
    "**a. ReduceByKey**: Gộp các giá trị dựa trên khóa bằng một hàm tổng hợp (như cộng, trừ)\\\n",
    "\n",
    "\n",
    "**b. groupByKey**: Gom các giá trị cùng khóa vào một danh sách\n",
    "```python\n",
    "        # Ví dụ: Gom tất cả các giao dịch vào một danh sách\n",
    "        sales_rdd = sc.parallelize([(\"ProductA\", 30), (\"ProductB\", 20), (\"ProductA\", 15)])\n",
    "        grouped_sales = sales_rdd.groupByKey().mapValues(list)\n",
    "        # Output: [('ProductA', [30, 15]), ('ProductB', [20])]\n",
    "\n",
    "```\n",
    "\n",
    "**c. sortByKey**: Sắp xếp Pair RDDs dựa trên khóa\n",
    "```python\n",
    "        products_rdd = sc.parallelize([(\"ProductB\", 200), (\"ProductA\", 100), (\"ProductC\", 150)])\n",
    "        sorted_products = products_rdd.sortByKey()\n",
    "        # Output: [('ProductA', 100), ('ProductB', 200), ('ProductC', 150)]\n",
    "\n",
    "\n",
    "```\n",
    "\n",
    "\n",
    "**d. join**: Ghép hai Pair RDDs dựa trên khóa chung\n",
    "```python\n",
    "        sales_rdd = sc.parallelize([(\"ProductA\", 30), (\"ProductB\", 20), (\"ProductA\", 15)])\n",
    "\n",
    "        product_info_rdd = sc.parallelize([(\"ProductA\", \"Description of A\"), \n",
    "                                        (\"ProductB\", \"Description of B\")])\n",
    "\n",
    "        joined_rdd = sales_rdd.join(product_info_rdd)\n",
    "        # Output: [('ProductA', (30, 'Description of A')), \n",
    "        # ('ProductA', (15, 'Description of A')), ('ProductB', (20, 'Description of B'))]\n",
    "\n",
    "```"
   ]
  },
  {
   "cell_type": "code",
   "execution_count": null,
   "metadata": {},
   "outputs": [],
   "source": []
  }
 ],
 "metadata": {
  "kernelspec": {
   "display_name": ".venv",
   "language": "python",
   "name": "python3"
  },
  "language_info": {
   "codemirror_mode": {
    "name": "ipython",
    "version": 3
   },
   "file_extension": ".py",
   "mimetype": "text/x-python",
   "name": "python",
   "nbconvert_exporter": "python",
   "pygments_lexer": "ipython3",
   "version": "3.10.12"
  }
 },
 "nbformat": 4,
 "nbformat_minor": 2
}
