{
 "cells": [
  {
   "cell_type": "markdown",
   "metadata": {},
   "source": [
    "# Ngày 4: PAIR RDD"
   ]
  },
  {
   "cell_type": "markdown",
   "metadata": {},
   "source": [
    "### 1. Pair RDDs"
   ]
  },
  {
   "cell_type": "markdown",
   "metadata": {},
   "source": [
    "a. Khái niệm:\n",
    "- Khái niệm: Pair RDDs là các RDD chứa các cặp dữ liệu dạng (key, value), giúp dễ dàng thực hiện các phép toán dựa trên khóa.\n",
    "- Ví dụ: Từ một danh sách các giao dịch bán hàng, tạo Pair RDD với mã sản phẩm là \"key\" và số lượng bán là \"value\". ('MaSP', soluong)\n",
    "- Ở các bài tập các buổi trước, việc đếm word count hay tính tổng doanh thu dựa theo Category các bạn đều đã tạo qua Pair RDDS để làm bài.\n",
    "\n",
    "b. Cách tạo Pair RDDS:\n",
    "- <p style = \"color: blue\">Tạo từ Map và FlatMap: </p>\n",
    "\n",
    "```python\n",
    "        rdd = sc.textFile(\"path\")\n",
    "        # Dem word count trong van ban\n",
    "        word_count = rdd.flatMap(lambda x: x.split()) \\\n",
    "                        .map(lambda word : (word,1)) \\\n",
    "                        .reduceByKey(lambda x, y: x+y)\n",
    "```\n",
    "\n",
    "- <p style = \"color: blue\">Tạo từ một một danh sách các cặp (key, value)</p>\n",
    "\n",
    "```python\n",
    "        sales_data = [(\"ProductA\", 30), (\"ProductB\", 20), (\"ProductA\", 15)]\n",
    "        pair_rdd = sc.parallelize(sales_data)\n",
    "        # Output: [('ProductA', 30), ('ProductB', 20), ('ProductA', 15)]\n",
    "```\n",
    "\n",
    "- <p style = \"color: blue\">Sử dụng hàm KeyBy </p>\n",
    "\n",
    "```python\n",
    "        products_rdd = sc.parallelize([(\"ProductA\", 100, \"CategoryX\"),\n",
    "                                         (\"ProductB\", 200, \"CategoryY\")])\n",
    "                                         \n",
    "        pair_rdd = products_rdd.keyBy(lambda x: x[0])  # Khóa là tên sản phẩm\n",
    "        # Output: [('ProductA', ('ProductA', 100, 'CategoryX')), \n",
    "        #               ('ProductB', ('ProductB', 200, 'CategoryY'))]\n",
    "\n",
    "```"
   ]
  },
  {
   "cell_type": "markdown",
   "metadata": {},
   "source": [
    "### 2. Các phép toán trên Pair RDDs\n",
    "\n"
   ]
  },
  {
   "cell_type": "markdown",
   "metadata": {},
   "source": [
    "**a. ReduceByKey**: Gộp các giá trị dựa trên khóa bằng một hàm tổng hợp (như cộng, trừ)\\\n",
    "\n",
    "\n",
    "**b. groupByKey**: Gom các giá trị cùng khóa vào một danh sách\n",
    "```python\n",
    "        # Ví dụ: Gom tất cả các giao dịch vào một danh sách\n",
    "        sales_rdd = sc.parallelize([(\"ProductA\", 30), (\"ProductB\", 20), (\"ProductA\", 15)])\n",
    "        grouped_sales = sales_rdd.groupByKey().mapValues(list)\n",
    "        # Output: [('ProductA', [30, 15]), ('ProductB', [20])]\n",
    "\n",
    "```\n",
    "\n",
    "**c. sortByKey**: Sắp xếp Pair RDDs dựa trên khóa\n",
    "```python\n",
    "        products_rdd = sc.parallelize([(\"ProductB\", 200), (\"ProductA\", 100), (\"ProductC\", 150)])\n",
    "        sorted_products = products_rdd.sortByKey()\n",
    "        # Output: [('ProductA', 100), ('ProductB', 200), ('ProductC', 150)]\n",
    "\n",
    "\n",
    "```\n",
    "\n",
    "\n",
    "**d. join**: Ghép hai Pair RDDs dựa trên khóa chung\n",
    "```python\n",
    "        sales_rdd = sc.parallelize([(\"ProductA\", 30), (\"ProductB\", 20), (\"ProductA\", 15)])\n",
    "\n",
    "        product_info_rdd = sc.parallelize([(\"ProductA\", \"Description of A\"), \n",
    "                                        (\"ProductB\", \"Description of B\")])\n",
    "\n",
    "        joined_rdd = sales_rdd.join(product_info_rdd)\n",
    "        # Output: [('ProductA', (30, 'Description of A')), \n",
    "        # ('ProductA', (15, 'Description of A')), ('ProductB', (20, 'Description of B'))]\n",
    "\n",
    "```\n",
    "\n",
    "**e. cogroup**: Ghép hai Pair RDD có cùng khóa nhưng giá trị khác nhau thành các tập giá trị.\n",
    "\n",
    "Ví dụ: Kết hợp điểm của sinh viên từ hai môn học để xem tất cả điểm theo từng sinh viên.\n",
    "```python\n",
    "        subject1_rdd = sc.parallelize([(\"Student1\", 85), (\"Student2\", 78), (\"Student1\", 90)])\n",
    "        subject2_rdd = sc.parallelize([(\"Student1\", 88), (\"Student2\", 92), (\"Student3\", 75)])\n",
    "        combined_scores = subject1_rdd.cogroup(subject2_rdd).mapValues(lambda x: (list(x[0]), list(x[1])))\n",
    "        # Output: [('Student1', ([85, 90], [88])), ('Student2', ([78], [92])), ('Student3', ([], [75]))]\n",
    "\n",
    "```\n"
   ]
  },
  {
   "cell_type": "markdown",
   "metadata": {},
   "source": [
    "## Bài tập"
   ]
  },
  {
   "cell_type": "markdown",
   "metadata": {},
   "source": [
    "**Bài 1: Tìm sản phẩm bán chạy nhất trong mỗi tháng từ một RDD chứa dữ liệu bán hàng.**"
   ]
  },
  {
   "cell_type": "markdown",
   "metadata": {},
   "source": [
    "Ý tưởng: Tạo ra các rdd = [((Thang, SanPham), SoLuong), .........]\\\n",
    "Sau đó lại tạo ra rdd = [((thang),(SanPham, SoLuong)), ..............] rồi dùng groupByKey để group theo thang\\\n",
    "và sau đó lọc ra theo SoLuong lon nhat"
   ]
  },
  {
   "cell_type": "code",
   "execution_count": 1,
   "metadata": {},
   "outputs": [],
   "source": [
    "from pyspark.sql import SparkSession"
   ]
  },
  {
   "cell_type": "code",
   "execution_count": 2,
   "metadata": {},
   "outputs": [
    {
     "name": "stderr",
     "output_type": "stream",
     "text": [
      "24/11/07 22:34:38 WARN Utils: Your hostname, ubunchuu-Test resolves to a loopback address: 127.0.1.1; using 10.0.224.45 instead (on interface wlo1)\n",
      "24/11/07 22:34:38 WARN Utils: Set SPARK_LOCAL_IP if you need to bind to another address\n",
      "Setting default log level to \"WARN\".\n",
      "To adjust logging level use sc.setLogLevel(newLevel). For SparkR, use setLogLevel(newLevel).\n",
      "24/11/07 22:34:39 WARN NativeCodeLoader: Unable to load native-hadoop library for your platform... using builtin-java classes where applicable\n"
     ]
    }
   ],
   "source": [
    "spark = SparkSession.builder \\\n",
    "    .appName(\"Pair RDD\") \\\n",
    "    .getOrCreate()"
   ]
  },
  {
   "cell_type": "code",
   "execution_count": 3,
   "metadata": {},
   "outputs": [],
   "source": [
    "sc = spark.sparkContext\n"
   ]
  },
  {
   "cell_type": "code",
   "execution_count": 4,
   "metadata": {},
   "outputs": [],
   "source": [
    "# Load to memory\n",
    "sales_rdd = sc.textFile(\"material_1/online_sales_data.csv\")"
   ]
  },
  {
   "cell_type": "code",
   "execution_count": 5,
   "metadata": {},
   "outputs": [
    {
     "name": "stderr",
     "output_type": "stream",
     "text": [
      "                                                                                \r"
     ]
    },
    {
     "data": {
      "text/plain": [
       "['10001,2024-01-01,Electronics,iPhone 14 Pro,2,999.99,1999.98,North America,Credit Card',\n",
       " '10002,2024-01-02,Home Appliances,Dyson V11 Vacuum,1,499.99,499.99,Europe,PayPal',\n",
       " \"10003,2024-01-03,Clothing,Levi's 501 Jeans,3,69.99,209.97,Asia,Debit Card\",\n",
       " '10004,2024-01-04,Books,The Da Vinci Code,4,15.99,63.96,North America,Credit Card',\n",
       " '10005,2024-01-05,Beauty Products,Neutrogena Skincare Set,1,89.99,89.99,Europe,PayPal']"
      ]
     },
     "execution_count": 5,
     "metadata": {},
     "output_type": "execute_result"
    }
   ],
   "source": [
    "sales_rdd.take(5)"
   ]
  },
  {
   "cell_type": "code",
   "execution_count": 6,
   "metadata": {},
   "outputs": [],
   "source": [
    "# Hàm kiểm tra và xử lý lỗi\n",
    "# Tao ra cac pair rdd là ((thang,sanpham), soluong)\n",
    "def parse_line(line):\n",
    "    fields = line.split(\",\")\n",
    "    # Kiểm tra xem dòng có đủ cột và dữ liệu có hợp lệ không\n",
    "    if len(fields) == 9:  # Số cột hợp lệ trong file\n",
    "        try:\n",
    "            # Chuyển đổi số lượng từ chuỗi thành số nguyên\n",
    "            so_luong = int(fields[4])\n",
    "            thang = fields[1][:7]  # Lấy tháng từ cột ngày\n",
    "            san_pham = fields[2]    # Lấy tên loai san pham\n",
    "            return (thang, san_pham), so_luong\n",
    "        except ValueError:\n",
    "            return None  # Trả về None nếu không thể chuyển đổi số lượng\n",
    "    else:\n",
    "        return None  # Trả về None nếu thiếu trường"
   ]
  },
  {
   "cell_type": "code",
   "execution_count": 7,
   "metadata": {},
   "outputs": [],
   "source": [
    "pair_rdd = sales_rdd.map(parse_line).filter(lambda x: x is not None)"
   ]
  },
  {
   "cell_type": "code",
   "execution_count": 8,
   "metadata": {},
   "outputs": [
    {
     "data": {
      "text/plain": [
       "[(('2024-01', 'Electronics'), 2),\n",
       " (('2024-01', 'Home Appliances'), 1),\n",
       " (('2024-01', 'Clothing'), 3),\n",
       " (('2024-01', 'Books'), 4),\n",
       " (('2024-01', 'Beauty Products'), 1),\n",
       " (('2024-01', 'Sports'), 5),\n",
       " (('2024-01', 'Electronics'), 1),\n",
       " (('2024-01', 'Home Appliances'), 2),\n",
       " (('2024-01', 'Clothing'), 6),\n",
       " (('2024-01', 'Books'), 2),\n",
       " (('2024-01', 'Beauty Products'), 1),\n",
       " (('2024-01', 'Sports'), 3),\n",
       " (('2024-01', 'Electronics'), 2),\n",
       " (('2024-01', 'Home Appliances'), 1),\n",
       " (('2024-01', 'Clothing'), 2),\n",
       " (('2024-01', 'Beauty Products'), 1),\n",
       " (('2024-01', 'Sports'), 4),\n",
       " (('2024-01', 'Electronics'), 2),\n",
       " (('2024-01', 'Home Appliances'), 1),\n",
       " (('2024-01', 'Clothing'), 3),\n",
       " (('2024-01', 'Books'), 2),\n",
       " (('2024-01', 'Beauty Products'), 1),\n",
       " (('2024-01', 'Sports'), 3),\n",
       " (('2024-01', 'Electronics'), 1),\n",
       " (('2024-01', 'Home Appliances'), 1),\n",
       " (('2024-01', 'Clothing'), 2),\n",
       " (('2024-01', 'Books'), 3),\n",
       " (('2024-01', 'Beauty Products'), 1),\n",
       " (('2024-01', 'Sports'), 2),\n",
       " (('2024-01', 'Electronics'), 2),\n",
       " (('2024-02', 'Home Appliances'), 3),\n",
       " (('2024-02', 'Clothing'), 5),\n",
       " (('2024-02', 'Books'), 4),\n",
       " (('2024-02', 'Beauty Products'), 2),\n",
       " (('2024-02', 'Sports'), 1),\n",
       " (('2024-02', 'Electronics'), 3),\n",
       " (('2024-02', 'Home Appliances'), 2),\n",
       " (('2024-02', 'Clothing'), 4),\n",
       " (('2024-02', 'Books'), 3),\n",
       " (('2024-02', 'Beauty Products'), 1),\n",
       " (('2024-02', 'Sports'), 2),\n",
       " (('2024-02', 'Electronics'), 3),\n",
       " (('2024-02', 'Home Appliances'), 1),\n",
       " (('2024-02', 'Clothing'), 2),\n",
       " (('2024-02', 'Books'), 4),\n",
       " (('2024-02', 'Beauty Products'), 1),\n",
       " (('2024-02', 'Sports'), 6),\n",
       " (('2024-02', 'Electronics'), 2),\n",
       " (('2024-02', 'Home Appliances'), 1),\n",
       " (('2024-02', 'Clothing'), 3),\n",
       " (('2024-02', 'Books'), 2),\n",
       " (('2024-02', 'Beauty Products'), 1),\n",
       " (('2024-02', 'Sports'), 5),\n",
       " (('2024-02', 'Electronics'), 4),\n",
       " (('2024-02', 'Home Appliances'), 1),\n",
       " (('2024-02', 'Clothing'), 5),\n",
       " (('2024-02', 'Books'), 3),\n",
       " (('2024-02', 'Beauty Products'), 2),\n",
       " (('2024-02', 'Sports'), 1),\n",
       " (('2024-03', 'Electronics'), 3),\n",
       " (('2024-03', 'Home Appliances'), 2),\n",
       " (('2024-03', 'Clothing'), 10),\n",
       " (('2024-03', 'Books'), 4),\n",
       " (('2024-03', 'Beauty Products'), 1),\n",
       " (('2024-03', 'Sports'), 2),\n",
       " (('2024-03', 'Electronics'), 1),\n",
       " (('2024-03', 'Home Appliances'), 3),\n",
       " (('2024-03', 'Clothing'), 4),\n",
       " (('2024-03', 'Books'), 2),\n",
       " (('2024-03', 'Beauty Products'), 1),\n",
       " (('2024-03', 'Sports'), 3),\n",
       " (('2024-03', 'Electronics'), 1),\n",
       " (('2024-03', 'Home Appliances'), 1),\n",
       " (('2024-03', 'Clothing'), 5),\n",
       " (('2024-03', 'Books'), 4),\n",
       " (('2024-03', 'Beauty Products'), 2),\n",
       " (('2024-03', 'Sports'), 3),\n",
       " (('2024-03', 'Electronics'), 2),\n",
       " (('2024-03', 'Home Appliances'), 1),\n",
       " (('2024-03', 'Clothing'), 2),\n",
       " (('2024-03', 'Books'), 3),\n",
       " (('2024-03', 'Beauty Products'), 1),\n",
       " (('2024-03', 'Sports'), 6),\n",
       " (('2024-03', 'Electronics'), 1),\n",
       " (('2024-03', 'Home Appliances'), 2),\n",
       " (('2024-03', 'Clothing'), 3),\n",
       " (('2024-03', 'Books'), 4),\n",
       " (('2024-03', 'Beauty Products'), 1),\n",
       " (('2024-03', 'Sports'), 2),\n",
       " (('2024-03', 'Electronics'), 2),\n",
       " (('2024-04', 'Home Appliances'), 1),\n",
       " (('2024-04', 'Clothing'), 4),\n",
       " (('2024-04', 'Books'), 3),\n",
       " (('2024-04', 'Beauty Products'), 1),\n",
       " (('2024-04', 'Sports'), 1),\n",
       " (('2024-04', 'Electronics'), 3),\n",
       " (('2024-04', 'Home Appliances'), 1),\n",
       " (('2024-04', 'Clothing'), 6),\n",
       " (('2024-04', 'Books'), 2),\n",
       " (('2024-04', 'Beauty Products'), 1),\n",
       " (('2024-04', 'Sports'), 2),\n",
       " (('2024-04', 'Electronics'), 1),\n",
       " (('2024-04', 'Home Appliances'), 2),\n",
       " (('2024-04', 'Clothing'), 3),\n",
       " (('2024-04', 'Books'), 4),\n",
       " (('2024-04', 'Beauty Products'), 1),\n",
       " (('2024-04', 'Sports'), 1),\n",
       " (('2024-04', 'Electronics'), 2),\n",
       " (('2024-04', 'Home Appliances'), 1),\n",
       " (('2024-04', 'Clothing'), 4),\n",
       " (('2024-04', 'Books'), 2),\n",
       " (('2024-04', 'Beauty Products'), 1),\n",
       " (('2024-04', 'Sports'), 3),\n",
       " (('2024-04', 'Electronics'), 1),\n",
       " (('2024-04', 'Home Appliances'), 2),\n",
       " (('2024-04', 'Clothing'), 3),\n",
       " (('2024-04', 'Books'), 4),\n",
       " (('2024-04', 'Beauty Products'), 2),\n",
       " (('2024-04', 'Sports'), 1),\n",
       " (('2024-04', 'Electronics'), 2),\n",
       " (('2024-05', 'Home Appliances'), 1),\n",
       " (('2024-05', 'Clothing'), 5),\n",
       " (('2024-05', 'Books'), 3),\n",
       " (('2024-05', 'Beauty Products'), 1),\n",
       " (('2024-05', 'Sports'), 1),\n",
       " (('2024-05', 'Electronics'), 1),\n",
       " (('2024-05', 'Home Appliances'), 2),\n",
       " (('2024-05', 'Clothing'), 3),\n",
       " (('2024-05', 'Books'), 2),\n",
       " (('2024-05', 'Beauty Products'), 1),\n",
       " (('2024-05', 'Sports'), 4),\n",
       " (('2024-05', 'Electronics'), 1),\n",
       " (('2024-05', 'Home Appliances'), 2),\n",
       " (('2024-05', 'Clothing'), 4),\n",
       " (('2024-05', 'Books'), 3),\n",
       " (('2024-05', 'Beauty Products'), 1),\n",
       " (('2024-05', 'Sports'), 2),\n",
       " (('2024-05', 'Electronics'), 1),\n",
       " (('2024-05', 'Home Appliances'), 1),\n",
       " (('2024-05', 'Clothing'), 3),\n",
       " (('2024-05', 'Books'), 2),\n",
       " (('2024-05', 'Beauty Products'), 1),\n",
       " (('2024-05', 'Sports'), 1),\n",
       " (('2024-05', 'Electronics'), 1),\n",
       " (('2024-05', 'Home Appliances'), 2),\n",
       " (('2024-05', 'Clothing'), 2),\n",
       " (('2024-05', 'Books'), 3),\n",
       " (('2024-05', 'Beauty Products'), 1),\n",
       " (('2024-05', 'Sports'), 2),\n",
       " (('2024-05', 'Electronics'), 1),\n",
       " (('2024-05', 'Home Appliances'), 2),\n",
       " (('2024-06', 'Clothing'), 3),\n",
       " (('2024-06', 'Books'), 2),\n",
       " (('2024-06', 'Beauty Products'), 1),\n",
       " (('2024-06', 'Sports'), 1),\n",
       " (('2024-06', 'Electronics'), 1),\n",
       " (('2024-06', 'Home Appliances'), 1),\n",
       " (('2024-06', 'Clothing'), 4),\n",
       " (('2024-06', 'Books'), 3),\n",
       " (('2024-06', 'Beauty Products'), 1),\n",
       " (('2024-06', 'Sports'), 2),\n",
       " (('2024-06', 'Electronics'), 1),\n",
       " (('2024-06', 'Home Appliances'), 1),\n",
       " (('2024-06', 'Clothing'), 5),\n",
       " (('2024-06', 'Books'), 4),\n",
       " (('2024-06', 'Beauty Products'), 1),\n",
       " (('2024-06', 'Sports'), 3),\n",
       " (('2024-06', 'Electronics'), 1),\n",
       " (('2024-06', 'Home Appliances'), 2),\n",
       " (('2024-06', 'Clothing'), 3),\n",
       " (('2024-06', 'Books'), 2),\n",
       " (('2024-06', 'Beauty Products'), 1),\n",
       " (('2024-06', 'Sports'), 1),\n",
       " (('2024-06', 'Electronics'), 3),\n",
       " (('2024-06', 'Home Appliances'), 2),\n",
       " (('2024-06', 'Clothing'), 4),\n",
       " (('2024-06', 'Books'), 3),\n",
       " (('2024-06', 'Beauty Products'), 2),\n",
       " (('2024-06', 'Sports'), 1),\n",
       " (('2024-06', 'Electronics'), 1),\n",
       " (('2024-06', 'Home Appliances'), 1),\n",
       " (('2024-07', 'Clothing'), 3),\n",
       " (('2024-07', 'Books'), 2),\n",
       " (('2024-07', 'Beauty Products'), 1),\n",
       " (('2024-07', 'Sports'), 1),\n",
       " (('2024-07', 'Electronics'), 1),\n",
       " (('2024-07', 'Home Appliances'), 2),\n",
       " (('2024-07', 'Clothing'), 4),\n",
       " (('2024-07', 'Books'), 3),\n",
       " (('2024-07', 'Beauty Products'), 1),\n",
       " (('2024-07', 'Sports'), 1),\n",
       " (('2024-07', 'Electronics'), 1),\n",
       " (('2024-07', 'Home Appliances'), 1),\n",
       " (('2024-07', 'Clothing'), 2),\n",
       " (('2024-07', 'Books'), 2),\n",
       " (('2024-07', 'Beauty Products'), 1),\n",
       " (('2024-07', 'Sports'), 1),\n",
       " (('2024-07', 'Electronics'), 2),\n",
       " (('2024-07', 'Home Appliances'), 1),\n",
       " (('2024-07', 'Clothing'), 3),\n",
       " (('2024-07', 'Books'), 2),\n",
       " (('2024-07', 'Beauty Products'), 1),\n",
       " (('2024-07', 'Sports'), 1),\n",
       " (('2024-07', 'Electronics'), 1),\n",
       " (('2024-07', 'Home Appliances'), 1),\n",
       " (('2024-07', 'Clothing'), 2),\n",
       " (('2024-07', 'Books'), 3),\n",
       " (('2024-07', 'Beauty Products'), 1),\n",
       " (('2024-07', 'Sports'), 1),\n",
       " (('2024-07', 'Electronics'), 1),\n",
       " (('2024-07', 'Home Appliances'), 2),\n",
       " (('2024-07', 'Clothing'), 4),\n",
       " (('2024-08', 'Books'), 3),\n",
       " (('2024-08', 'Beauty Products'), 2),\n",
       " (('2024-08', 'Sports'), 1),\n",
       " (('2024-08', 'Electronics'), 1),\n",
       " (('2024-08', 'Home Appliances'), 1),\n",
       " (('2024-08', 'Clothing'), 3),\n",
       " (('2024-08', 'Books'), 2),\n",
       " (('2024-08', 'Beauty Products'), 1),\n",
       " (('2024-08', 'Sports'), 1),\n",
       " (('2024-08', 'Electronics'), 4),\n",
       " (('2024-08', 'Home Appliances'), 2),\n",
       " (('2024-08', 'Clothing'), 2),\n",
       " (('2024-08', 'Books'), 3),\n",
       " (('2024-08', 'Beauty Products'), 1),\n",
       " (('2024-08', 'Sports'), 2),\n",
       " (('2024-08', 'Electronics'), 1),\n",
       " (('2024-08', 'Home Appliances'), 1),\n",
       " (('2024-08', 'Clothing'), 4),\n",
       " (('2024-08', 'Books'), 2),\n",
       " (('2024-08', 'Beauty Products'), 1),\n",
       " (('2024-08', 'Sports'), 3),\n",
       " (('2024-08', 'Electronics'), 1),\n",
       " (('2024-08', 'Home Appliances'), 1),\n",
       " (('2024-08', 'Clothing'), 3),\n",
       " (('2024-08', 'Books'), 3),\n",
       " (('2024-08', 'Beauty Products'), 1),\n",
       " (('2024-08', 'Sports'), 2)]"
      ]
     },
     "execution_count": 8,
     "metadata": {},
     "output_type": "execute_result"
    }
   ],
   "source": [
    "pair_rdd.collect()"
   ]
  },
  {
   "cell_type": "code",
   "execution_count": 9,
   "metadata": {},
   "outputs": [],
   "source": [
    "# Ap dung reduceByKey de dem tong so luong tung loai trong moi thang\n",
    "\n",
    "result_rdd = pair_rdd.reduceByKey(lambda x,y: x+y)"
   ]
  },
  {
   "cell_type": "code",
   "execution_count": 10,
   "metadata": {},
   "outputs": [
    {
     "data": {
      "text/plain": [
       "[(('2024-01', 'Electronics'), 10),\n",
       " (('2024-01', 'Books'), 11),\n",
       " (('2024-02', 'Home Appliances'), 8),\n",
       " (('2024-02', 'Clothing'), 19),\n",
       " (('2024-02', 'Beauty Products'), 7),\n",
       " (('2024-02', 'Sports'), 15),\n",
       " (('2024-03', 'Electronics'), 10),\n",
       " (('2024-03', 'Books'), 17),\n",
       " (('2024-04', 'Books'), 15),\n",
       " (('2024-04', 'Electronics'), 9),\n",
       " (('2024-05', 'Home Appliances'), 10),\n",
       " (('2024-05', 'Clothing'), 17),\n",
       " (('2024-05', 'Beauty Products'), 5),\n",
       " (('2024-05', 'Sports'), 10),\n",
       " (('2024-06', 'Clothing'), 19),\n",
       " (('2024-06', 'Beauty Products'), 6),\n",
       " (('2024-06', 'Sports'), 8),\n",
       " (('2024-06', 'Home Appliances'), 7),\n",
       " (('2024-07', 'Clothing'), 18),\n",
       " (('2024-07', 'Beauty Products'), 5),\n",
       " (('2024-07', 'Sports'), 5),\n",
       " (('2024-07', 'Home Appliances'), 7),\n",
       " (('2024-08', 'Beauty Products'), 6),\n",
       " (('2024-08', 'Sports'), 9),\n",
       " (('2024-08', 'Home Appliances'), 5),\n",
       " (('2024-08', 'Clothing'), 12),\n",
       " (('2024-01', 'Home Appliances'), 6),\n",
       " (('2024-01', 'Clothing'), 16),\n",
       " (('2024-01', 'Beauty Products'), 5),\n",
       " (('2024-01', 'Sports'), 17),\n",
       " (('2024-02', 'Books'), 16),\n",
       " (('2024-02', 'Electronics'), 12),\n",
       " (('2024-03', 'Home Appliances'), 9),\n",
       " (('2024-03', 'Clothing'), 24),\n",
       " (('2024-03', 'Beauty Products'), 6),\n",
       " (('2024-03', 'Sports'), 16),\n",
       " (('2024-04', 'Home Appliances'), 7),\n",
       " (('2024-04', 'Clothing'), 20),\n",
       " (('2024-04', 'Beauty Products'), 6),\n",
       " (('2024-04', 'Sports'), 8),\n",
       " (('2024-05', 'Books'), 13),\n",
       " (('2024-05', 'Electronics'), 5),\n",
       " (('2024-06', 'Books'), 14),\n",
       " (('2024-06', 'Electronics'), 7),\n",
       " (('2024-07', 'Books'), 12),\n",
       " (('2024-07', 'Electronics'), 6),\n",
       " (('2024-08', 'Books'), 13),\n",
       " (('2024-08', 'Electronics'), 7)]"
      ]
     },
     "execution_count": 10,
     "metadata": {},
     "output_type": "execute_result"
    }
   ],
   "source": [
    "result_rdd.collect()"
   ]
  },
  {
   "cell_type": "code",
   "execution_count": 11,
   "metadata": {},
   "outputs": [],
   "source": [
    "# Tìm sản phẩm bán chạy nhất trong mỗi tháng\n",
    "best_seller = result_rdd.map(lambda x: (x[0][0], (x[0][1], x[1]))) \\\n",
    "                           .groupByKey() \\\n",
    "                           .mapValues(lambda x: max(x, key=lambda y: y[1]))"
   ]
  },
  {
   "cell_type": "code",
   "execution_count": 12,
   "metadata": {},
   "outputs": [
    {
     "data": {
      "text/plain": [
       "[('2024-01', ('Sports', 17)),\n",
       " ('2024-03', ('Clothing', 24)),\n",
       " ('2024-04', ('Clothing', 20)),\n",
       " ('2024-02', ('Clothing', 19)),\n",
       " ('2024-05', ('Clothing', 17)),\n",
       " ('2024-06', ('Clothing', 19)),\n",
       " ('2024-07', ('Clothing', 18)),\n",
       " ('2024-08', ('Books', 13))]"
      ]
     },
     "execution_count": 12,
     "metadata": {},
     "output_type": "execute_result"
    }
   ],
   "source": [
    "best_seller.collect()"
   ]
  },
  {
   "cell_type": "markdown",
   "metadata": {},
   "source": [
    "Như kết quả trên, dễ dàng nhận thấy tháng 1 mặt hàng Sport bán chạy nhất, tiếp theo từ tháng 2 đến \\\n",
    "tháng 7 mặt hàng Clothing bán chạy nhất. Tháng 8 thì mặt hàng sách bán chạy nhất\n",
    "\n",
    "*Ở trên dùng spark rdd, trong các bài sau, ta sẽ dùng **spark DataFrame** hay **spark SQL** sẽ sử lí dữ liệu thời gian dễ hơn*"
   ]
  },
  {
   "cell_type": "markdown",
   "metadata": {},
   "source": [
    "**Bài 2: Tính trung bình điểm của học sinh theo từng lớp từ một RDD chứa dữ liệu điểm số.**\n",
    "\n",
    "Ta sẽ sử dụng dataset student_performance_data.csv để làm. Vì đặc thù dữ liệu, ta sẽ tính điểm trung bình theo thang điểm 4 và tính theo từng chủng tộc, xem điểm số trung bình của chủng tộc nào cao nhất."
   ]
  },
  {
   "cell_type": "code",
   "execution_count": 13,
   "metadata": {},
   "outputs": [],
   "source": [
    "# Load du lieu\n",
    "student_rdd = sc.textFile(\"material_1/student_performance_data.csv\")"
   ]
  },
  {
   "cell_type": "code",
   "execution_count": 15,
   "metadata": {},
   "outputs": [
    {
     "data": {
      "text/plain": [
       "['StudentID,Age,Gender,Ethnicity,ParentalEducation,StudyTimeWeekly,Absences,Tutoring,ParentalSupport,Extracurricular,Sports,Music,Volunteering,GPA,GradeClass',\n",
       " '1001,17,1,0,2,19.833722807854713,7,1,2,0,0,1,0,2.929195591667681,2.0',\n",
       " '1002,18,0,0,1,15.40875605584674,0,0,1,0,0,0,0,3.042914833436377,1.0',\n",
       " '1003,15,0,2,3,4.21056976881226,26,0,2,0,0,0,0,0.1126022544661815,4.0',\n",
       " '1004,17,1,0,3,10.028829473958215,14,0,3,1,0,0,0,2.0542181397029484,3.0']"
      ]
     },
     "execution_count": 15,
     "metadata": {},
     "output_type": "execute_result"
    }
   ],
   "source": [
    "student_rdd.take(5)"
   ]
  },
  {
   "cell_type": "code",
   "execution_count": 16,
   "metadata": {},
   "outputs": [
    {
     "data": {
      "text/plain": [
       "['1001,17,1,0,2,19.833722807854713,7,1,2,0,0,1,0,2.929195591667681,2.0',\n",
       " '1002,18,0,0,1,15.40875605584674,0,0,1,0,0,0,0,3.042914833436377,1.0',\n",
       " '1003,15,0,2,3,4.21056976881226,26,0,2,0,0,0,0,0.1126022544661815,4.0',\n",
       " '1004,17,1,0,3,10.028829473958215,14,0,3,1,0,0,0,2.0542181397029484,3.0',\n",
       " '1005,17,1,0,2,4.6724952729713305,17,1,3,0,0,0,0,1.2880611817953875,4.0']"
      ]
     },
     "execution_count": 16,
     "metadata": {},
     "output_type": "execute_result"
    }
   ],
   "source": [
    "# Bo dong dau tien di\n",
    "firstRow = student_rdd.first()\n",
    "\n",
    "student_rdd_no_header = student_rdd.filter(lambda x: x != firstRow)\n",
    "\n",
    "student_rdd_no_header.take(5)"
   ]
  },
  {
   "cell_type": "markdown",
   "metadata": {},
   "source": [
    "Chú thích:\n",
    "- Ethnicity\n",
    "    - 0: Caucasian\n",
    "    - 1: African American\n",
    "    - 2: Asian\n",
    "    - 3: Other\n",
    "- ParentalSupport\n",
    "    - 0: None\n",
    "    - 1: Low\n",
    "    - 2: Moderate\n",
    "    - 3: High\n",
    "    - 4: Very High"
   ]
  },
  {
   "cell_type": "code",
   "execution_count": 21,
   "metadata": {},
   "outputs": [
    {
     "data": {
      "text/plain": [
       "[('0', 2), ('0', 1), ('2', 2), ('0', 3), ('0', 3)]"
      ]
     },
     "execution_count": 21,
     "metadata": {},
     "output_type": "execute_result"
    }
   ],
   "source": [
    "# Tao pair rdd chua du lieu (Ethnicity, ParentalSupport)\n",
    "\n",
    "def parse_line(line):\n",
    "    fields = line.split(\",\")\n",
    "    # Kiểm tra xem dòng có đủ cột và dữ liệu có hợp lệ không\n",
    "    if len(fields) == 15:  # Số cột hợp lệ trong file\n",
    "        try:\n",
    "            ethnicity = fields[3]\n",
    "            parentalSupport = int(fields[8])\n",
    "            return (ethnicity, parentalSupport)\n",
    "        except ValueError:\n",
    "            return None  # Trả về None nếu không thể chuyển đổi số lượng\n",
    "    else:\n",
    "        return None  # Trả về None nếu thiếu trường\n",
    "    \n",
    "\n",
    "pair_rdd = student_rdd_no_header.map(parse_line).filter(lambda x: x is not None)\n",
    "\n",
    "pair_rdd.take(5)"
   ]
  },
  {
   "cell_type": "code",
   "execution_count": 22,
   "metadata": {},
   "outputs": [],
   "source": [
    "average_rdd = pair_rdd.groupByKey().mapValues(lambda x : sum(x)/len(x))"
   ]
  },
  {
   "cell_type": "code",
   "execution_count": 23,
   "metadata": {},
   "outputs": [
    {
     "data": {
      "text/plain": [
       "[('0', 2.12013256006628),\n",
       " ('1', 2.050709939148073),\n",
       " ('2', 2.1638297872340426),\n",
       " ('3', 2.2027027027027026)]"
      ]
     },
     "execution_count": 23,
     "metadata": {},
     "output_type": "execute_result"
    }
   ],
   "source": [
    "average_rdd.collect()"
   ]
  },
  {
   "cell_type": "markdown",
   "metadata": {},
   "source": [
    "Thấy tỉ lệ điểm củng ngang ngang nhau, chứng tỏ học vấn không phụ thuộc vào chủng tộc :D"
   ]
  },
  {
   "cell_type": "markdown",
   "metadata": {},
   "source": [
    "**Bài 3: Thực hiện phép \"cogroup\" để kết hợp dữ liệu từ hai RDD có cùng khóa nhưng giá trị khác nhau.**"
   ]
  },
  {
   "cell_type": "code",
   "execution_count": 24,
   "metadata": {},
   "outputs": [],
   "source": [
    "# sales_rdd1: Mã đơn hàng, Sản phẩm và Số lượng\n",
    "sales_rdd1 = sc.parallelize([\n",
    "    ('10001', ('iPhone 14 Pro', 2)),\n",
    "    ('10002', ('Dyson V11 Vacuum', 1)),\n",
    "    ('10003', ('Levi\\'s 501 Jeans', 3)),\n",
    "    ('10004', ('The Da Vinci Code', 4))\n",
    "])\n",
    "\n",
    "# sales_rdd2: Mã đơn hàng, Giá mỗi sản phẩm và Tổng giá\n",
    "sales_rdd2 = sc.parallelize([\n",
    "    ('10001', (999.99, 1999.98)),\n",
    "    ('10002', (499.99, 499.99)),\n",
    "    ('10003', (69.99, 209.97)),\n",
    "    ('10005', (89.99, 89.99))\n",
    "])\n",
    "\n"
   ]
  },
  {
   "cell_type": "code",
   "execution_count": 25,
   "metadata": {},
   "outputs": [
    {
     "name": "stderr",
     "output_type": "stream",
     "text": [
      "                                                                                \r"
     ]
    }
   ],
   "source": [
    "# Thực hiện phép cogroup để kết hợp dữ liệu từ cả hai RDD theo mã đơn hàng\n",
    "cogrouped_rdd = sales_rdd1.cogroup(sales_rdd2)\n",
    "\n",
    "# Lấy kết quả để xem\n",
    "cogrouped_result = cogrouped_rdd.collect()\n",
    "\n"
   ]
  },
  {
   "cell_type": "code",
   "execution_count": 26,
   "metadata": {},
   "outputs": [
    {
     "name": "stdout",
     "output_type": "stream",
     "text": [
      "Mã đơn hàng: 10003\n",
      "Thông tin từ sales_rdd1: [(\"Levi's 501 Jeans\", 3)]\n",
      "Thông tin từ sales_rdd2: [(69.99, 209.97)]\n",
      "------\n",
      "Mã đơn hàng: 10002\n",
      "Thông tin từ sales_rdd1: [('Dyson V11 Vacuum', 1)]\n",
      "Thông tin từ sales_rdd2: [(499.99, 499.99)]\n",
      "------\n",
      "Mã đơn hàng: 10001\n",
      "Thông tin từ sales_rdd1: [('iPhone 14 Pro', 2)]\n",
      "Thông tin từ sales_rdd2: [(999.99, 1999.98)]\n",
      "------\n",
      "Mã đơn hàng: 10005\n",
      "Thông tin từ sales_rdd1: []\n",
      "Thông tin từ sales_rdd2: [(89.99, 89.99)]\n",
      "------\n",
      "Mã đơn hàng: 10004\n",
      "Thông tin từ sales_rdd1: [('The Da Vinci Code', 4)]\n",
      "Thông tin từ sales_rdd2: []\n",
      "------\n"
     ]
    }
   ],
   "source": [
    "for order_id, (info1, info2) in cogrouped_result:\n",
    "    print(f\"Mã đơn hàng: {order_id}\")\n",
    "    print(f\"Thông tin từ sales_rdd1: {list(info1)}\")\n",
    "    print(f\"Thông tin từ sales_rdd2: {list(info2)}\")\n",
    "    print(\"------\")"
   ]
  },
  {
   "cell_type": "code",
   "execution_count": 27,
   "metadata": {},
   "outputs": [],
   "source": [
    "spark.stop()"
   ]
  },
  {
   "cell_type": "code",
   "execution_count": null,
   "metadata": {},
   "outputs": [],
   "source": []
  }
 ],
 "metadata": {
  "kernelspec": {
   "display_name": ".venv",
   "language": "python",
   "name": "python3"
  },
  "language_info": {
   "codemirror_mode": {
    "name": "ipython",
    "version": 3
   },
   "file_extension": ".py",
   "mimetype": "text/x-python",
   "name": "python",
   "nbconvert_exporter": "python",
   "pygments_lexer": "ipython3",
   "version": "3.10.12"
  }
 },
 "nbformat": 4,
 "nbformat_minor": 2
}
