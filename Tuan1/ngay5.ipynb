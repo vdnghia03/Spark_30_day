{
 "cells": [
  {
   "cell_type": "markdown",
   "metadata": {},
   "source": [
    "# Ngày 5: Shared Variable và Spark UI"
   ]
  },
  {
   "cell_type": "markdown",
   "metadata": {},
   "source": [
    "#### I. Shard Variable\n",
    "Spark theo mặc định không hỗ trợ thay đổi trạng thái biến được chia sẻ trên các Worker Node. Share variables giúp giải quyết một số giới hạn của kiến trúc này."
   ]
  },
  {
   "cell_type": "markdown",
   "metadata": {},
   "source": [
    "**1. Broadcast Variable**\n",
    "   \n",
    "*Khái niệm*: Broadcast variables dùng để chia sẻ một biến chỉ đọc đến tất cả worker node, nhằm giảm việc truyền dữ liệu lặp đi lặp lại.\n",
    "\n",
    "*Sử dụng:* \n",
    "- Broadcast một từ điển lớn hoặc dữ liệu tham khỏa để tất cả worker node có thể truy cập mà không phải tải lại từ đầu.\n",
    "- Lợi ích của Broadcast variables là giảm băng thông và cải thiện hiệu suất.\n",
    "\n",
    "*Cú pháp và ví dụ:*\n",
    "```python\n",
    "    broadcast_val = sc.broadcast(large_dict)\n",
    "    rdd.map(lambda x : some_function(x , broadcast_var.value))\n",
    "```"
   ]
  },
  {
   "cell_type": "markdown",
   "metadata": {},
   "source": [
    "**2. Accumulators:**\n",
    "\n",
    "*Khái niệm:* Accumulators là các biến có thể đếm hoặc tổng hợp dữ liệu trên các worker node, thường dùng để theo dõi số liệu hoặc lỗi mà không ảnh hưởng đến trạng thái ứng dụng.\n",
    "\n",
    "*Sử dụng:* Theo dõi số lượng bản ghi lỗi hoặc số liệu thống kê\n",
    "\n",
    "*Cú pháp và ví dụ:* \n",
    "\n",
    "```python\n",
    "    accumulator = sc.accumulator(0)\n",
    "    rdd.foreach( lambda x: accumulator.add(1) if x == 'error' else None)\n",
    "```\n"
   ]
  },
  {
   "cell_type": "markdown",
   "metadata": {},
   "source": []
  }
 ],
 "metadata": {
  "kernelspec": {
   "display_name": ".venv",
   "language": "python",
   "name": "python3"
  },
  "language_info": {
   "name": "python",
   "version": "3.10.12"
  }
 },
 "nbformat": 4,
 "nbformat_minor": 2
}
